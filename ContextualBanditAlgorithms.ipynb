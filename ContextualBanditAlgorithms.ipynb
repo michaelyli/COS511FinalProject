{
 "cells": [
  {
   "cell_type": "code",
   "execution_count": 1,
   "metadata": {
    "collapsed": true
   },
   "outputs": [],
   "source": [
    "import numpy as np\n",
    "from MABModel import MABModel"
   ]
  },
  {
   "cell_type": "code",
   "execution_count": 2,
   "metadata": {
    "collapsed": true
   },
   "outputs": [],
   "source": [
    "import math"
   ]
  },
  {
   "cell_type": "code",
   "execution_count": 3,
   "metadata": {
    "collapsed": true
   },
   "outputs": [],
   "source": [
    "def exp3(n_arms, T, gamma = 0.2):\n",
    "    ws = [1.0] * n_arms\n",
    "    \n",
    "    ## instantiate model \n",
    "    x = MABModel(n_arms)\n",
    "    cum_reward = 0.0\n",
    "    \n",
    "    for i in range(0, T):\n",
    "        p = computeP(gamma, ws, n_arms)\n",
    "        next_arm = np.random.choice(n_arms, 1, p=p)[0]\n",
    "        reward = x.getArm(next_arm)\n",
    "        \n",
    "        estimated_reward = reward/p[next_arm]        \n",
    "        ws[next_arm] = ws[next_arm]*math.pow(math.e, gamma*estimated_reward/n_arms)\n",
    "        \n",
    "        cum_reward += reward\n",
    "        \n",
    "    return cum_reward\n",
    "\n",
    "def computeP(gamma, weights, n_arms):\n",
    "    total_w = np.sum(weights)\n",
    "    return [((1-gamma)*w)/(total_w) + (gamma/float(n_arms)) for w in weights]"
   ]
  },
  {
   "cell_type": "code",
   "execution_count": 37,
   "metadata": {},
   "outputs": [
    {
     "data": {
      "text/plain": [
       "2.0"
      ]
     },
     "execution_count": 37,
     "metadata": {},
     "output_type": "execute_result"
    }
   ],
   "source": [
    "np.sqrt(4)"
   ]
  },
  {
   "cell_type": "code",
   "execution_count": 33,
   "metadata": {
    "collapsed": true
   },
   "outputs": [],
   "source": [
    "def exp3P(n_arms, T, gamma = 0.2, beta = 0.2):\n",
    "#     ws = [1.0] * n_arms\n",
    "    \n",
    "    \n",
    "    G = [0.0 for i in range(0, n_arms)]\n",
    "    alpha = 0.5 \n",
    "    \n",
    "    ## instantiate model \n",
    "    x = MABModel(n_arms)\n",
    "    cum_reward = 0.0\n",
    "    \n",
    "    for i in range(0, T):\n",
    "        p = computeP(gamma, ws, n_arms)\n",
    "        next_arm = np.random.choice(n_arms, 1, p=p)[0]\n",
    "        reward = x.getArm(next_arm)\n",
    "        \n",
    "        estimated_reward = (reward+beta)/p[next_arm]\n",
    "        G[next_arm] += estimated_reward \n",
    "        \n",
    "        exp_term = (gamma/(3*n_arms))*(estimated_reward + (alpha/(p[next_arm]*np.sqrt(n_arms*T))))\n",
    "        ws[next_arm] = ws[next_arm]*math.pow(math.e, )\n",
    "        \n",
    "        cum_reward += reward\n",
    "        \n",
    "    return cum_reward"
   ]
  },
  {
   "cell_type": "code",
   "execution_count": 7,
   "metadata": {
    "collapsed": true
   },
   "outputs": [],
   "source": [
    "def Sexp3(n_arms, T, gamma = 0.2):\n",
    "    \n",
    "    ws = [1.0] * n_arms\n",
    "    \n",
    "    # a context is just a previous arm\n",
    "    context_ws = [ws.copy() for i in range(0, n_arms)] \n",
    "    \n",
    "    ## instantiate model \n",
    "    x = MABModel(n_arms)\n",
    "    cum_reward = 0.0\n",
    "    prev_arm = np.random.randint(0, n_arms)\n",
    "    \n",
    "    arms = []\n",
    "    \n",
    "    for i in range(0, T):\n",
    "        \n",
    "        # here we have to index into context weights i think\n",
    "        p = computeP(gamma, context_ws[prev_arm], n_arms)\n",
    "        next_arm = np.random.choice(n_arms, 1, p=p)[0]\n",
    "        reward = x.getArm(next_arm)\n",
    "        \n",
    "        estimated_reward = reward/p[next_arm]\n",
    "        \n",
    "        temp_ws = context_ws[prev_arm]\n",
    "        context_ws[prev_arm][next_arm] = context_ws[prev_arm][next_arm]*math.pow(math.e, gamma*estimated_reward/n_arms)\n",
    "        prev_arm = next_arm\n",
    "        \n",
    "        cum_reward += reward\n",
    "        arms.append(next_arm)\n",
    "        \n",
    "    return (cum_reward, context_ws, arms)"
   ]
  },
  {
   "cell_type": "code",
   "execution_count": 30,
   "metadata": {
    "scrolled": false
   },
   "outputs": [
    {
     "name": "stdout",
     "output_type": "stream",
     "text": [
      "2923.78\n",
      "3502.2\n",
      "3250.86\n",
      "3267.68\n",
      "3326.22\n",
      "3045.26\n",
      "2973.66\n"
     ]
    }
   ],
   "source": [
    "num_samples = 25\n",
    "n_arms = 5\n",
    "T = 5000\n",
    "\n",
    "for gamma in [0.01, 0.05, 0.10, 0.20, 0.30, 0.40, 0.50]:\n",
    "    total_rew = 0.0 \n",
    "    for i in range(0, num_samples):\n",
    "        rew = exp3(n_arms, T, gamma)\n",
    "        total_rew += rew\n",
    "\n",
    "    print(total_rew/num_samples)"
   ]
  },
  {
   "cell_type": "code",
   "execution_count": 31,
   "metadata": {},
   "outputs": [
    {
     "name": "stdout",
     "output_type": "stream",
     "text": [
      "2660.96\n",
      "3198.1\n",
      "3369.98\n",
      "3268.96\n",
      "3159.2\n",
      "3057.68\n",
      "3082.82\n"
     ]
    }
   ],
   "source": [
    "num_samples = 25\n",
    "n_arms = 5\n",
    "T = 5000\n",
    "\n",
    "for gamma in [0.01, 0.05, 0.10, 0.20, 0.30, 0.40, 0.50]:\n",
    "    total_rew = 0.0 \n",
    "    for i in range(0, num_samples):\n",
    "        (rew, context_ws, arms) = Sexp3(n_arms, T, gamma)\n",
    "        total_rew += rew\n",
    "\n",
    "    print(total_rew/num_samples)"
   ]
  },
  {
   "cell_type": "code",
   "execution_count": 36,
   "metadata": {},
   "outputs": [
    {
     "name": "stdout",
     "output_type": "stream",
     "text": [
      "2818.32\n",
      "3493.28\n",
      "3374.52\n",
      "3437.2\n",
      "3097.64\n",
      "3026.74\n",
      "2968.9\n"
     ]
    }
   ],
   "source": [
    "num_samples = 25\n",
    "n_arms = 5\n",
    "T = 5000\n",
    "\n",
    "for gamma in [0.01, 0.05, 0.10, 0.20, 0.30, 0.40, 0.50]:\n",
    "    total_rew = 0.0 \n",
    "    for i in range(0, num_samples):\n",
    "        rew = exp3P(n_arms, T, gamma)\n",
    "        total_rew += rew\n",
    "\n",
    "    print(total_rew/num_samples)"
   ]
  }
 ],
 "metadata": {
  "kernelspec": {
   "display_name": "Python 3",
   "language": "python",
   "name": "python3"
  },
  "language_info": {
   "codemirror_mode": {
    "name": "ipython",
    "version": 3
   },
   "file_extension": ".py",
   "mimetype": "text/x-python",
   "name": "python",
   "nbconvert_exporter": "python",
   "pygments_lexer": "ipython3",
   "version": "3.6.3"
  }
 },
 "nbformat": 4,
 "nbformat_minor": 2
}
