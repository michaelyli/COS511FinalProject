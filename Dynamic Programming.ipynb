{
 "cells": [
  {
   "cell_type": "code",
   "execution_count": null,
   "metadata": {},
   "outputs": [],
   "source": [
    "import numpy as np\n",
    "import random\n",
    "\n",
    "class MABModel(object):\n",
    "    q = np.zeros(1) # bernoulli correlation probabilities\n",
    "    p = np.zeros(1) # bernoulli arm probabilities\n",
    "    curState = 0 # previous arm pulled\n",
    "    \n",
    "    def __init__(self, K):\n",
    "        self.q = np.zeros(K)\n",
    "        self.p =np.zeros([K,K])\n",
    "        for i in range(K):\n",
    "            self.q[i] = random.uniform(0, 1)\n",
    "            for j in range(K):\n",
    "                self.p[i,j] = random.uniform(0, 1)\n",
    "        self.curState = random.randint(0,2)\n",
    "    def getArm(self, state):\n",
    "        temp = 0\n",
    "        if(random.uniform(0,1) < self.q[state]):\n",
    "            temp += 1\n",
    "        if(random.uniform(0,1) < self.p[self.curState,state]):\n",
    "            temp += 1\n",
    "        self.curState = state\n",
    "        return temp/2\n",
    "    def getq(self):\n",
    "        return self.q\n",
    "    def getp(self):\n",
    "        return self.p\n",
    "x = MABModel(3)\n",
    "\n",
    "##for i in range(10):\n",
    " #   for j in range(3):\n",
    "        print(x.getArm(j))\n",
    "#print(x.getp())\n",
    "#print(x.getq())"
   ]
  },
  {
   "cell_type": "code",
   "execution_count": 15,
   "metadata": {},
   "outputs": [
    {
     "name": "stdout",
     "output_type": "stream",
     "text": [
      "[ 0.59694669  0.19688806  0.33564817  0.06901231  0.47142318  0.54615751\n",
      "  0.36381843  0.27802346  0.45894593  0.72230667]\n",
      "[[ 0.05438892  0.04095409  0.83446801  0.34440415  0.80086718  0.27595901\n",
      "   0.26026603  0.28081894  0.24565316  0.24658011]\n",
      " [ 0.36339877  0.59259681  0.2666603   0.13321195  0.27118509  0.39615297\n",
      "   0.98165093  0.57069038  0.90233633  0.04621909]\n",
      " [ 0.58321826  0.42049111  0.2236279   0.74032985  0.15209047  0.9185485\n",
      "   0.26955491  0.02404623  0.56848995  0.27920103]\n",
      " [ 0.25379231  0.68365861  0.82190837  0.76797396  0.38474495  0.65678693\n",
      "   0.22653555  0.15236813  0.76007924  0.54211259]\n",
      " [ 0.08334527  0.1536195   0.73075261  0.44027347  0.06442505  0.03151978\n",
      "   0.14163496  0.50304269  0.16032351  0.54603802]\n",
      " [ 0.72443171  0.81033532  0.85802054  0.7293987   0.44850712  0.1428518\n",
      "   0.70886892  0.06835604  0.01301718  0.03135295]\n",
      " [ 0.65576025  0.09432585  0.15983805  0.86137306  0.68158055  0.46036226\n",
      "   0.08089415  0.38277727  0.64102905  0.85623637]\n",
      " [ 0.68877995  0.39548855  0.30200947  0.76542822  0.5750066   0.70781244\n",
      "   0.50118645  0.58867791  0.52510383  0.4796723 ]\n",
      " [ 0.71830202  0.51990827  0.85961712  0.64306581  0.87789401  0.51392509\n",
      "   0.82831286  0.81213386  0.03509939  0.3529016 ]\n",
      " [ 0.33927966  0.09488174  0.08479843  0.04821409  0.98584429  0.11831325\n",
      "   0.42081328  0.15019387  0.51838114  0.5133336 ]]\n",
      "[2, 5, 6, 9, 4, 9, 4, 9, 4, 9, 4, 9, 4, 9, 4, 9, 4, 9, 4, 9, 4, 9, 4, 9, 4, 9, 4, 9, 4, 9, 4, 9, 4, 9, 4, 9, 4, 9, 4, 9, 4, 9, 4, 9, 4, 9, 4, 9, 4, 9, 4, 9, 4, 9, 4, 9, 4, 9, 4, 9, 4, 9, 4, 9, 4, 9, 4, 9, 4, 9, 4, 9, 4, 9, 4, 9, 4, 9, 4, 9, 4, 9, 4, 9, 4, 9, 4, 9, 4, 9, 4, 9, 4, 9, 4, 9, 4, 9, 4, 9, 4, 9, 4, 9, 4, 9, 4, 9, 4, 9, 4, 9, 4, 9, 4, 9, 4, 9, 4, 9, 4, 9, 4, 9, 4, 9, 4, 9, 4, 9, 4, 9, 4, 9, 4, 9, 4, 9, 4, 9, 4, 9, 4, 9, 4, 9, 4, 9, 4, 9, 4, 9, 4, 9, 4, 9, 4, 9, 4, 9, 4, 9, 4, 9, 4, 9, 4, 9, 4, 9, 4, 9, 4, 9, 4, 9, 4, 9, 4, 9, 4, 9, 4, 9, 4, 9, 4, 9, 4, 9, 4, 9, 4, 9, 4, 9, 4, 9, 4, 9, 4, 9, 4, 9, 4, 9, 4, 9, 4, 9, 4, 9, 4, 9, 4, 9, 4, 9, 4, 9, 4, 9, 4, 9, 4, 9, 4, 9, 4, 9, 4, 9, 4, 9, 4, 9, 4, 9, 4, 9, 4, 9, 4, 9, 4, 9, 4, 9, 4, 9, 4, 9, 4, 9, 4, 9, 4, 9, 4, 9, 4, 9, 4, 9, 4, 9, 4, 9, 4, 9, 4, 9, 4, 9, 4, 9, 4, 9, 4, 9, 4, 9, 4, 9, 4, 9, 4, 9, 4, 9, 4, 9, 4, 9, 4, 9, 4, 9, 4, 9, 4, 9, 4, 9, 4, 9, 4, 9, 4, 9, 4, 9, 4, 9, 4, 9, 4, 9, 4, 9, 4, 9, 4, 9, 4, 9, 4, 9, 4, 9, 4, 9, 4, 9, 4, 9, 4, 9, 4, 9, 4, 9, 4, 9, 4, 9, 4, 9, 4, 9, 4, 9, 4, 9, 4, 9, 4, 9, 4, 9, 4, 9, 4, 9, 4, 9, 4, 9, 4, 9, 4, 9, 4, 9, 4, 9, 4, 9, 4, 9, 4, 9, 4, 9, 4, 9, 4, 9, 4, 9, 4, 9, 4, 9, 4, 9, 4, 9, 4, 9, 4, 9, 4, 9, 4, 9, 4, 9, 4, 9, 4, 9, 4, 9, 4, 9, 4, 9, 4, 9, 4, 9, 4, 9, 4, 9, 4, 9, 4, 9, 4, 9, 4, 9, 4, 9, 4, 9, 4, 9, 4, 9, 4, 9, 4, 9, 4, 9, 4, 9, 4, 9, 4, 9, 4, 9, 4, 9, 4, 9, 4, 9, 4, 9, 4, 9, 4, 9, 4, 9, 4, 9, 4, 9, 4, 9, 4, 9, 4, 9, 4, 9, 4, 9, 4, 9, 4, 9, 4, 9, 4, 9, 4, 9, 4, 9, 4, 9, 4, 9, 4, 9, 4, 9, 4, 9, 4, 9, 4, 9, 4, 9, 4, 9, 4, 9, 4, 9, 4, 9, 4, 9, 4, 9, 4, 9, 4, 9, 4, 9, 4, 9, 4, 9, 4, 9, 4, 9, 4, 9, 4, 9, 4, 9, 4, 9, 4, 9, 4, 9, 4, 9, 4, 9, 4, 9, 4, 9, 4, 9, 4, 9, 4, 9, 4, 9, 4, 9, 4, 9, 4, 9, 4, 9, 4, 9, 4, 9, 4, 9, 4, 9, 4, 9, 4, 9, 4, 9, 4, 9, 4, 9, 4, 9, 4, 9, 4, 9, 4, 9, 4, 9, 4, 9, 4, 9, 4, 9, 4, 9, 4, 9, 4, 9, 4, 9, 4, 9, 4, 9, 4, 9, 4, 9, 4, 9, 4, 9, 4, 9, 4, 9, 4, 9, 4, 9, 4, 9, 4, 9, 4, 9, 4, 9, 4, 9, 4, 9, 4, 9, 4, 9, 4, 9, 4, 9, 4, 9, 4, 9, 4, 9, 4, 9, 4, 9, 4, 9, 4, 9, 4, 9, 4, 9, 4, 9, 4, 9, 4, 9, 4, 9, 4, 9, 4, 9, 4, 9, 4, 9, 4, 9, 4, 9, 4, 9, 4, 9, 4, 9, 4, 9, 4, 9, 4, 9, 4, 9, 4, 9, 4, 9, 4, 9, 4, 9, 4, 9, 4, 9, 4, 9, 4, 9, 4, 9, 4, 9, 4, 9, 4, 9, 4, 9, 4, 9, 4, 9, 4, 9, 4, 9, 4, 9, 4, 9, 4, 9, 4, 9, 4, 9, 4, 9, 4, 9, 4, 9, 4, 9, 4, 9, 4, 9, 4, 9, 4, 9, 4, 9, 4, 9, 4, 9, 4, 9, 4, 9, 4, 9, 4, 9, 4, 9, 4, 9, 4, 9, 4, 9, 4, 9, 4, 9, 4, 9, 4, 9, 4, 9, 4, 9, 4, 9, 4, 9, 4, 9, 4, 9, 4, 9, 4, 9, 4, 9, 4, 9, 4, 9, 4, 9, 4, 9, 4, 9, 4, 9, 4, 9, 4, 9, 4, 9, 4, 9, 4, 9, 4, 9, 4, 9, 4, 9, 4, 9, 4, 9, 4, 9, 4, 9, 4, 9, 4, 9, 4, 9, 4, 9, 4, 9, 4, 9, 4, 9, 4, 9, 4, 9, 4, 9, 4, 9, 4, 9, 4, 9, 4, 9, 4, 9, 4, 9, 4, 9, 4, 9, 4, 9, 4, 9, 4, 9, 4, 9, 4, 9, 4, 9, 4, 9, 4, 9, 4, 9, 4, 9, 4, 9, 4, 9, 4, 9, 4, 9, 4, 9, 4, 9, 4, 9, 4, 9, 4, 9, 4, 9, 4, 9, 4, 9, 4, 9, 4, 9, 4, 9, 4, 9, 4, 9, 4, 9, 4, 9, 4, 9, 4, 9, 4, 9, 4, 9, 4, 9, 4, 9, 4, 9, 4, 9, 4, 9, 4, 9, 4, 9, 4, 9, 4, 9, 4, 9, 4, 9, 4, 9, 4, 9, 4, 9, 4, 9, 4, 9, 4, 9, 4, 9, 4, 9, 4, 9, 4, 9, 4, 9, 4, 9, 4]\n"
     ]
    }
   ],
   "source": [
    "import numpy as np\n",
    "import copy\n",
    "\n",
    "\n",
    "# p is the array of codependencies\n",
    "# q is array of individual probabilities\n",
    "# n is dimension of q\n",
    "# start is the starting character of the sequence\n",
    "# length is the number of arms to pull\n",
    "# return a sequence of length number of arms that maximizes payoff\n",
    "def bestSequence(n,p,q,start,length):\n",
    "    seq = {} # dict mapping first arm to a tuple of best list starting with this arm and a total sum for that list\n",
    "    # initialize the dictionary to all the possible final arms pulled\n",
    "    for i in range(n):\n",
    "        seq[i] = ([i],q[i])\n",
    "        \n",
    "    # loop through to generate arms of size length\n",
    "    # only need to keep track of at most n sequences of pulls, one for each most recent arm pulled\n",
    "    for i in range(length+1):\n",
    "        tempseq = {} # temporary dictionary for the best lists of length one longer\n",
    "        for ind in range(n):\n",
    "            for recent in seq:\n",
    "                l,val = seq[recent]\n",
    "                # copy the list and insert this arm at front\n",
    "                lind = copy.copy(l) \n",
    "                lind.insert(0,ind) \n",
    "                # insert new list into dictionary if better than previous best\n",
    "                if ind not in tempseq:\n",
    "                    tempseq[ind] = (lind,val+p[ind,recent]+q[ind])\n",
    "                else:\n",
    "                    l2,val2 = tempseq[ind]\n",
    "                    if val + p[ind,recent] + q[ind] > val2:\n",
    "                        tempseq[ind] = (lind,val+p[ind,recent]+q[ind])                    \n",
    "        seq = copy.copy(tempseq)\n",
    "    # extract best list and value for given start\n",
    "    a,b = seq[start]\n",
    "    return a[1:]\n",
    "\n",
    "\n",
    "#### Testing\n",
    "n = 10\n",
    "p = np.random.rand(n,n)\n",
    "q = np.random.rand(n)\n",
    "print(q)\n",
    "print(p)\n",
    "\n",
    "print(bestSequence(n,p,q,3,1000))"
   ]
  },
  {
   "cell_type": "code",
   "execution_count": null,
   "metadata": {
    "collapsed": true
   },
   "outputs": [],
   "source": []
  },
  {
   "cell_type": "code",
   "execution_count": null,
   "metadata": {
    "collapsed": true
   },
   "outputs": [],
   "source": []
  }
 ],
 "metadata": {
  "kernelspec": {
   "display_name": "Python 3",
   "language": "python",
   "name": "python3"
  },
  "language_info": {
   "codemirror_mode": {
    "name": "ipython",
    "version": 3
   },
   "file_extension": ".py",
   "mimetype": "text/x-python",
   "name": "python",
   "nbconvert_exporter": "python",
   "pygments_lexer": "ipython3",
   "version": "3.6.3"
  }
 },
 "nbformat": 4,
 "nbformat_minor": 2
}
