{
 "cells": [
  {
   "cell_type": "code",
   "execution_count": 1,
   "metadata": {
    "collapsed": true
   },
   "outputs": [],
   "source": [
    "import numpy as np\n",
    "import random\n",
    "from scipy.special import comb\n",
    "import math"
   ]
  },
  {
   "cell_type": "code",
   "execution_count": 2,
   "metadata": {
    "collapsed": true
   },
   "outputs": [],
   "source": [
    "def genBernoullis(size):\n",
    "    return np.random.uniform(0, 1, size)"
   ]
  },
  {
   "cell_type": "code",
   "execution_count": 18,
   "metadata": {
    "collapsed": true
   },
   "outputs": [],
   "source": [
    "n = 8\n",
    "num_samples = 100"
   ]
  },
  {
   "cell_type": "code",
   "execution_count": 19,
   "metadata": {
    "collapsed": true
   },
   "outputs": [],
   "source": [
    "# for num_sample number of times \n",
    "# 10 choose 3 cycles \n",
    "# find max"
   ]
  },
  {
   "cell_type": "code",
   "execution_count": 20,
   "metadata": {},
   "outputs": [
    {
     "name": "stdout",
     "output_type": "stream",
     "text": [
      "1\n",
      "2\n",
      "3\n",
      "4\n",
      "5\n",
      "6\n",
      "7\n"
     ]
    }
   ],
   "source": [
    "# generate one graph \n",
    "vals = []\n",
    "for i in range(1, n):\n",
    "    len_cycles = int(comb(n, i))*math.factorial(i-1)\n",
    "    \n",
    "    \n",
    "    print(i)\n",
    "    mean_sum = 0\n",
    "    for j in range(0, num_samples):        \n",
    "        max_val = -1        \n",
    "        for k in range(0, len_cycles):\n",
    "            sample = genBernoullis(i) \n",
    "            sample_avg = np.mean(sample)\n",
    "            max_val = max(max_val, sample_avg)\n",
    "        mean_sum = max_val + mean_sum\n",
    "    \n",
    "#     print(\"Cycle length \" + str(i))\n",
    "    vals.append(mean_sum/num_samples)"
   ]
  },
  {
   "cell_type": "code",
   "execution_count": 21,
   "metadata": {
    "collapsed": true
   },
   "outputs": [],
   "source": [
    "import matplotlib.pyplot as plt "
   ]
  },
  {
   "cell_type": "code",
   "execution_count": 22,
   "metadata": {},
   "outputs": [
    {
     "data": {
      "image/png": "[encoded data removed]",
      "text/plain": [
       "<matplotlib.figure.Figure at 0x22dc56b2fd0>"
      ]
     },
     "metadata": {},
     "output_type": "display_data"
    }
   ],
   "source": [
    "plt.plot(vals)\n",
    "plt.ylabel('Reward')\n",
    "plt.xlabel('Size of cycle')\n",
    "plt.legend()\n",
    "plt.show()"
   ]
  },
  {
   "cell_type": "code",
   "execution_count": 25,
   "metadata": {},
   "outputs": [
    {
     "data": {
      "text/plain": [
       "array([[ 0.36743027,  0.75103017,  0.73096329,  0.38910533,  0.34150043,\n",
       "         0.07340008,  0.97516403,  0.0317966 ,  0.19100866,  0.0722592 ],\n",
       "       [ 0.2694386 ,  0.28484465,  0.19085593,  0.94124786,  0.13578381,\n",
       "         0.51738616,  0.68220547,  0.91078369,  0.3017965 ,  0.38574401],\n",
       "       [ 0.15983671,  0.181782  ,  0.41154287,  0.25164132,  0.34960949,\n",
       "         0.04283918,  0.76257513,  0.40845548,  0.71714821,  0.93493516],\n",
       "       [ 0.59057017,  0.5552513 ,  0.28011476,  0.82817411,  0.41480407,\n",
       "         0.22194635,  0.07606219,  0.6705661 ,  0.36151698,  0.56483302],\n",
       "       [ 0.28315811,  0.48050613,  0.51943769,  0.51011241,  0.72558532,\n",
       "         0.55711737,  0.86640213,  0.72389781,  0.20756966,  0.3863621 ],\n",
       "       [ 0.00333325,  0.63150705,  0.1721304 ,  0.11878172,  0.45879045,\n",
       "         0.55468828,  0.63405555,  0.31589257,  0.08447659,  0.16778769],\n",
       "       [ 0.4576217 ,  0.22533219,  0.44542503,  0.40772675,  0.98198804,\n",
       "         0.05221978,  0.09452565,  0.5646819 ,  0.32448053,  0.20157568],\n",
       "       [ 0.59433101,  0.19624381,  0.47473965,  0.24534513,  0.03948522,\n",
       "         0.80999443,  0.21769399,  0.51846552,  0.39768842,  0.48473218],\n",
       "       [ 0.08153271,  0.72394722,  0.32558204,  0.84509738,  0.9193942 ,\n",
       "         0.58526509,  0.95006163,  0.06524787,  0.95642658,  0.01850757],\n",
       "       [ 0.81655425,  0.11399085,  0.22940761,  0.67316526,  0.28730457,\n",
       "         0.82979537,  0.49237701,  0.08115283,  0.64985659,  0.24912793]])"
      ]
     },
     "execution_count": 25,
     "metadata": {},
     "output_type": "execute_result"
    }
   ],
   "source": [
    "np.random.uniform(0, 1, (10, 10))"
   ]
  },
  {
   "cell_type": "code",
   "execution_count": 219,
   "metadata": {
    "collapsed": true
   },
   "outputs": [],
   "source": [
    "def getReward(vertices, matrix):\n",
    "    reward = 0.0\n",
    "    for i in range(1, len(vertices)):\n",
    "#         print(matrix[vertices[i-1], vertices[i]])\n",
    "        reward += matrix[vertices[i-1], vertices[i]]\n",
    "    \n",
    "    return reward"
   ]
  },
  {
   "cell_type": "code",
   "execution_count": 233,
   "metadata": {},
   "outputs": [],
   "source": [
    "def rewardTuples(path, n, arm_choices, matrix, end):\n",
    "    if n <= 1:\n",
    "#         print(path+[end])\n",
    "        return getReward(path+[end], matrix)\n",
    "    else:\n",
    "        max_val  = -1 \n",
    "        for i in range(0, arm_choices):\n",
    "            temp = rewardTuples(path+[i], n-1, arm_choices, matrix, end)\n",
    "            if temp > max_val:\n",
    "                max_val = temp\n",
    "        \n",
    "        return max_val "
   ]
  },
  {
   "cell_type": "code",
   "execution_count": 234,
   "metadata": {
    "scrolled": true
   },
   "outputs": [],
   "source": [
    "n = 7\n",
    "max_vals = [0.0 for i in range(0, n)] ## store the averages\n",
    "num_samples = 50\n",
    "# outer loop loops over \"sampled random graphs\" \n",
    "for i in range(0, num_samples):    \n",
    "        \n",
    "    # payoff matrix\n",
    "    matrix = np.random.uniform(0, 1, (n, n))\n",
    "    \n",
    "    # for every possible starting point k\n",
    "    # generate tuple of for (k,....,k), no restrictions on value since complete graph\n",
    "    # traverse the adjacency to get weights \n",
    "    for j in range(1, n):\n",
    "        ## iterate through\n",
    "        temp_max = -1\n",
    "        for start in range(1, n):\n",
    "            # j-1 because fix the first and last element of the tuple\n",
    "            reward = rewardTuples([start], j, n, matrix, start)\n",
    "            if reward > temp_max:\n",
    "                temp_max = reward   \n",
    "        max_vals[j] += (temp_max/(j)) \n"
   ]
  },
  {
   "cell_type": "code",
   "execution_count": 236,
   "metadata": {},
   "outputs": [],
   "source": [
    "avgs = [elem/num_samples for elem in max_vals]\n",
    "avgs = avgs[1:]"
   ]
  },
  {
   "cell_type": "code",
   "execution_count": 237,
   "metadata": {},
   "outputs": [
    {
     "data": {
      "image/png": "[encoded data removed]",
      "text/plain": [
       "<matplotlib.figure.Figure at 0x22dc78c1588>"
      ]
     },
     "metadata": {},
     "output_type": "display_data"
    }
   ],
   "source": [
    "plt.plot(range(1, len(avgs)+1), avgs)\n",
    "plt.show()"
   ]
  }
 ],
 "metadata": {
  "kernelspec": {
   "display_name": "Python 3",
   "language": "python",
   "name": "python3"
  },
  "language_info": {
   "codemirror_mode": {
    "name": "ipython",
    "version": 3
   },
   "file_extension": ".py",
   "mimetype": "text/x-python",
   "name": "python",
   "nbconvert_exporter": "python",
   "pygments_lexer": "ipython3",
   "version": "3.6.3"
  }
 },
 "nbformat": 4,
 "nbformat_minor": 2
}
